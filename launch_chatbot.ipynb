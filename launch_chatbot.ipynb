{
 "cells": [
  {
   "cell_type": "code",
   "execution_count": 1,
   "metadata": {},
   "outputs": [
    {
     "name": "stdout",
     "output_type": "stream",
     "text": [
      "Event loop ready.\n"
     ]
    }
   ],
   "source": [
    "import nest_asyncio\n",
    "\n",
    "nest_asyncio.apply()\n",
    "print(\"Event loop ready.\")"
   ]
  },
  {
   "cell_type": "markdown",
   "metadata": {},
   "source": [
    "*CREATION OF PROJECT*"
   ]
  },
  {
   "cell_type": "code",
   "execution_count": 2,
   "metadata": {},
   "outputs": [
    {
     "name": "stdout",
     "output_type": "stream",
     "text": [
      "['actions.py', 'config.yml', 'credentials.yml', 'data', 'domain.yml', 'endpoints.yml', 'models', '__init__.py', '__pycache__']\n"
     ]
    }
   ],
   "source": [
    "from rasa.cli.scaffold import create_initial_project\n",
    "import os\n",
    "\n",
    "project = \"test-project-ask\"\n",
    "# create_initial_project(project)\n",
    "\n",
    "# move into project directory and show files\n",
    "os.chdir(project)\n",
    "print(os.listdir(\".\"))"
   ]
  },
  {
   "cell_type": "code",
   "execution_count": 3,
   "metadata": {},
   "outputs": [
    {
     "name": "stdout",
     "output_type": "stream",
     "text": [
      "config.yml data/ domain.yml models/\n"
     ]
    }
   ],
   "source": [
    "config = \"config.yml\"\n",
    "training_files = \"data/\"\n",
    "domain = \"domain.yml\"\n",
    "output = \"models/\"\n",
    "print(config, training_files, domain, output)"
   ]
  },
  {
   "cell_type": "code",
   "execution_count": 4,
   "metadata": {},
   "outputs": [
    {
     "name": "stderr",
     "output_type": "stream",
     "text": [
      "C:\\Users\\eh_co\\Anaconda3\\lib\\site-packages\\rasa\\core\\training\\dsl.py:422: UserWarning: Found unknown intent 'affirm' on line 5. Please, make sure that all intents are listed in your domain yaml.\n",
      "  docs=DOCS_URL_DOMAINS,\n",
      "C:\\Users\\eh_co\\Anaconda3\\lib\\site-packages\\rasa\\core\\training\\dsl.py:422: UserWarning: Found unknown intent 'deny' on line 12. Please, make sure that all intents are listed in your domain yaml.\n",
      "  docs=DOCS_URL_DOMAINS,\n",
      "C:\\Users\\eh_co\\Anaconda3\\lib\\site-packages\\rasa\\core\\training\\dsl.py:422: UserWarning: Found unknown intent 'None' on line 32. Please, make sure that all intents are listed in your domain yaml.\n",
      "  docs=DOCS_URL_DOMAINS,\n"
     ]
    },
    {
     "name": "stdout",
     "output_type": "stream",
     "text": [
      "Training Core model...\n"
     ]
    },
    {
     "name": "stderr",
     "output_type": "stream",
     "text": [
      "C:\\Users\\eh_co\\Anaconda3\\lib\\site-packages\\rasa\\core\\training\\dsl.py:422: UserWarning: Found unknown intent 'affirm' on line 5. Please, make sure that all intents are listed in your domain yaml.\n",
      "  docs=DOCS_URL_DOMAINS,\n",
      "C:\\Users\\eh_co\\Anaconda3\\lib\\site-packages\\rasa\\core\\training\\dsl.py:422: UserWarning: Found unknown intent 'deny' on line 12. Please, make sure that all intents are listed in your domain yaml.\n",
      "  docs=DOCS_URL_DOMAINS,\n",
      "C:\\Users\\eh_co\\Anaconda3\\lib\\site-packages\\rasa\\core\\training\\dsl.py:422: UserWarning: Found unknown intent 'None' on line 32. Please, make sure that all intents are listed in your domain yaml.\n",
      "  docs=DOCS_URL_DOMAINS,\n",
      "Processed Story Blocks: 100%|██████████| 7/7 [00:00<00:00, 1749.81it/s, # trackers=1]\n",
      "Processed Story Blocks: 100%|██████████| 7/7 [00:00<00:00, 1399.77it/s, # trackers=6]\n",
      "Processed Story Blocks: 100%|██████████| 7/7 [00:00<00:00, 388.77it/s, # trackers=30]\n",
      "Processed Story Blocks: 100%|██████████| 7/7 [00:00<00:00, 318.10it/s, # trackers=30]\n",
      "Processed trackers: 100%|██████████| 6/6 [00:00<00:00, 599.87it/s, # actions=16]\n",
      "Processed actions: 16it [00:00, 1999.67it/s, # examples=16]\n",
      "Processed trackers:  75%|███████▍  | 295/395 [00:01<00:00, 196.45it/s, # actions=324]IOPub message rate exceeded.\n",
      "The notebook server will temporarily stop sending output\n",
      "to the client in order to avoid crashing it.\n",
      "To change this limit, set the config variable\n",
      "`--NotebookApp.iopub_msg_rate_limit`.\n",
      "\n",
      "Current values:\n",
      "NotebookApp.iopub_msg_rate_limit=1000.0 (msgs/sec)\n",
      "NotebookApp.rate_limit_window=3.0 (secs)\n",
      "\n",
      "Epochs: 100%|██████████| 100/100 [00:13<00:00, 10.65it/s, t_loss=0.105, loss=0.058, acc=0.974]\n"
     ]
    },
    {
     "name": "stdout",
     "output_type": "stream",
     "text": [
      "Core model training completed.\n",
      "Training NLU model...\n"
     ]
    },
    {
     "name": "stderr",
     "output_type": "stream",
     "text": [
      "Epochs: 100%|██████████| 100/100 [00:33<00:00,  3.13it/s, t_loss=1.531, i_loss=0.023, e_loss=0.518, i_acc=1.000, e_f1=0.845]\n"
     ]
    },
    {
     "name": "stdout",
     "output_type": "stream",
     "text": [
      "NLU model training completed.\n",
      "Your Rasa model is trained and saved at 'C:\\Users\\eh_co\\Desktop\\AskUbunbtu_Chatbot\\test-project-ask\\models\\20201010-211847.tar.gz'.\n",
      "models/20201010-211847.tar.gz\n"
     ]
    }
   ],
   "source": [
    "import rasa\n",
    "\n",
    "model_path = rasa.train(domain, config, [training_files], output)\n",
    "print(model_path)"
   ]
  },
  {
   "cell_type": "code",
   "execution_count": null,
   "metadata": {},
   "outputs": [
    {
     "name": "stdout",
     "output_type": "stream",
     "text": [
      "WARNING:tensorflow:From C:\\Users\\eh_co\\Anaconda3\\lib\\site-packages\\tensorflow_core\\python\\ops\\array_grad.py:563: _EagerTensorBase.cpu (from tensorflow.python.framework.ops) is deprecated and will be removed in a future version.\n",
      "Instructions for updating:\n",
      "Use tf.identity instead.\n",
      "Your bot is ready to talk! Type your messages here or send '/stop'.\n",
      "hi\n",
      "DEBUG! Detected Setup_Printer\n",
      "software\n",
      "DEBUG! Detected Software_Recommendation intent\n",
      "\n",
      "Phu-huck!\n",
      "meh\n",
      "DEBUG! Detected Software_Recommendation intent\n",
      "test\n",
      "DEBUG! Detected Software_Recommendation intent\n",
      "setup\n",
      "DEBUG! Detected Setup_Printer\n",
      "computer\n",
      "DEBUG! Detected Setup_Printer\n",
      "shutdown\n",
      "DEBUG! Detected Setup_Printer\n",
      "Is there a tool like wifi analyzer for ubuntu?\n",
      "DEBUG! Detected Software_Recommendation intent\n",
      "What is the proper terminal-way to shutdown?\n",
      "DEBUG! Detected Setup_Printer\n",
      "install an HP in Ubuntu\n",
      "DEBUG! Detected Setup_Printer\n"
     ]
    }
   ],
   "source": [
    "import rasa\n",
    "from rasa.jupyter import chat\n",
    "chat(model_path)"
   ]
  },
  {
   "cell_type": "code",
   "execution_count": null,
   "metadata": {},
   "outputs": [],
   "source": []
  },
  {
   "cell_type": "code",
   "execution_count": null,
   "metadata": {},
   "outputs": [],
   "source": []
  }
 ],
 "metadata": {
  "kernelspec": {
   "display_name": "Python 3",
   "language": "python",
   "name": "python3"
  },
  "language_info": {
   "codemirror_mode": {
    "name": "ipython",
    "version": 3
   },
   "file_extension": ".py",
   "mimetype": "text/x-python",
   "name": "python",
   "nbconvert_exporter": "python",
   "pygments_lexer": "ipython3",
   "version": "3.7.4"
  }
 },
 "nbformat": 4,
 "nbformat_minor": 2
}
